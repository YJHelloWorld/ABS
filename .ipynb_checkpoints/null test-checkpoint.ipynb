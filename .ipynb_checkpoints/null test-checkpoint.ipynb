{
 "metadata": {
  "name": "",
  "signature": "sha256:fb0c2a79681d118f18e793a3f9a9364c9d7ef7a694eda47692d85322cc25ada4"
 },
 "nbformat": 3,
 "nbformat_minor": 0,
 "worksheets": []
}